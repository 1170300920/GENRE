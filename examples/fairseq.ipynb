{
 "cells": [
  {
   "cell_type": "markdown",
   "metadata": {},
   "source": [
    "# GENRE for fairseq\n",
    "\n",
    "First make sure that you have [fairseq](https://github.com/pytorch/fairseq) installed. \n",
    "\n",
    "\n",
    "## Entity Disambiguation\n",
    "Download one of the pre-trained models:\n",
    "\n",
    "| Training Dataset | Model |\n",
    "| -------- | -------- |\n",
    "| BLINK | [fairseq_entity_disambiguation_blink](http://dl.fbaipublicfiles.com/GENRE/fairseq_entity_disambiguation_blink.tar.gz)|\n",
    "| BLINK + AidaYago2 | [fairseq_entity_disambiguation_aidayago](http://dl.fbaipublicfiles.com/GENRE/fairseq_entity_disambiguation_aidayago.tar.gz)|\n",
    "\n",
    "as well as the prefix tree from KILT Wikipedia titles ([kilt_titles_trie.pkl](http://dl.fbaipublicfiles.com/GENRE/kilt_titles_trie.pkl)).\n",
    "\n",
    "Then load the trie and define the function to apply the constraints with the entities trie"
   ]
  },
  {
   "cell_type": "code",
   "execution_count": 1,
   "metadata": {},
   "outputs": [],
   "source": [
    "import pickle\n",
    "\n",
    "with open(\"data/kilt_titles_trie.pkl\", \"rb\") as f:\n",
    "    trie = pickle.load(f)\n",
    "\n",
    "def prefix_allowed_tokens_fn(batch_id, sent):\n",
    "    return trie.get(sent.tolist())"
   ]
  },
  {
   "cell_type": "markdown",
   "metadata": {},
   "source": [
    "Then, load the model"
   ]
  },
  {
   "cell_type": "code",
   "execution_count": 2,
   "metadata": {},
   "outputs": [],
   "source": [
    "from genre import GENRE\n",
    "model = GENRE.from_pretrained(\"models/fairseq_entity_disambiguation_aidayago\").eval()"
   ]
  },
  {
   "cell_type": "markdown",
   "metadata": {},
   "source": [
    "and simply use `.sample` to make predictions constraining using `prefix_allowed_tokens_fn`"
   ]
  },
  {
   "cell_type": "code",
   "execution_count": 3,
   "metadata": {},
   "outputs": [
    {
     "data": {
      "text/plain": [
       "[[{'text': 'Neil Armstrong', 'logprob': tensor(-0.1443)},\n",
       "  {'text': 'William Armstrong', 'logprob': tensor(-1.4650)},\n",
       "  {'text': 'Scott Armstrong', 'logprob': tensor(-1.7311)},\n",
       "  {'text': 'Arthur Armstrong', 'logprob': tensor(-1.7356)},\n",
       "  {'text': 'Rob Armstrong', 'logprob': tensor(-1.7426)}]]"
      ]
     },
     "execution_count": 3,
     "metadata": {},
     "output_type": "execute_result"
    }
   ],
   "source": [
    "sentences = [\"[START_ENT] Armstrong [END_ENT] was the first man on the Moon.\"]\n",
    "\n",
    "model.sample(\n",
    "    sentences,\n",
    "    prefix_allowed_tokens_fn=prefix_allowed_tokens_fn,\n",
    ")"
   ]
  },
  {
   "cell_type": "markdown",
   "metadata": {},
   "source": [
    "## Document Retieval\n",
    "Download one of the pre-trained models:\n",
    "\n",
    "| Training Dataset | Models |\n",
    "| -------- | -------- |\n",
    "| KILT | [fairseq_wikipage_retrieval](http://dl.fbaipublicfiles.com/GENRE/fairseq_wikipage_retrieval.tar.gz)|\n",
    "\n",
    "Then, load the model"
   ]
  },
  {
   "cell_type": "code",
   "execution_count": 4,
   "metadata": {},
   "outputs": [],
   "source": [
    "model = GENRE.from_pretrained(\"models/fairseq_wikipage_retrieval\").eval()"
   ]
  },
  {
   "cell_type": "markdown",
   "metadata": {},
   "source": [
    "and simply use `.sample` to make predictions constraining using `prefix_allowed_tokens_fn`"
   ]
  },
  {
   "cell_type": "code",
   "execution_count": 5,
   "metadata": {},
   "outputs": [
    {
     "data": {
      "text/plain": [
       "[[{'text': 'Neil Armstrong', 'logprob': tensor(-0.1593)},\n",
       "  {'text': 'Apollo 11', 'logprob': tensor(-0.7673)},\n",
       "  {'text': 'Astronaut', 'logprob': tensor(-1.1418)},\n",
       "  {'text': 'Buzz Aldrin', 'logprob': tensor(-1.4446)},\n",
       "  {'text': 'Apollo 17', 'logprob': tensor(-1.4594)}]]"
      ]
     },
     "execution_count": 5,
     "metadata": {},
     "output_type": "execute_result"
    }
   ],
   "source": [
    "sentences = [\"Armstrong was the first man on the Moon.\"]\n",
    "\n",
    "model.sample(\n",
    "    sentences,\n",
    "    prefix_allowed_tokens_fn=prefix_allowed_tokens_fn,\n",
    ")"
   ]
  },
  {
   "cell_type": "markdown",
   "metadata": {},
   "source": [
    "## End-to-End Entity Linking\n",
    "\n",
    "Download one of the pre-trained models:\n",
    "\n",
    "| Training Dataset | Models |\n",
    "| -------- | -------- |\n",
    "| WIKIPEDIA | [fairseq_e2e_entity_linking_wiki_abs](http://dl.fbaipublicfiles.com/GENRE/fairseq_e2e_entity_linking_wiki_abs.tar.gz)|\n",
    "| WIKIPEDIA + AidaYago2 | [fairseq_e2e_entity_linking_aidayago](http://dl.fbaipublicfiles.com/GENRE/fairseq_e2e_entity_linking_aidayago.tar.gz)|\n",
    "\n",
    "Then, load the model"
   ]
  },
  {
   "cell_type": "code",
   "execution_count": 6,
   "metadata": {},
   "outputs": [],
   "source": [
    "model = GENRE.from_pretrained(\"models/fairseq_e2e_entity_linking_aidayago\").eval()"
   ]
  },
  {
   "cell_type": "markdown",
   "metadata": {},
   "source": [
    "and \n",
    "1. get the `prefix_allowed_tokens_fn` with the only constraints to annotate the original sentence (i.e., no other constrains on mention nor candidates)\n",
    "2. use `.sample` to make predictions constraining using `prefix_allowed_tokens_fn`"
   ]
  },
  {
   "cell_type": "code",
   "execution_count": 7,
   "metadata": {},
   "outputs": [
    {
     "data": {
      "text/plain": [
       "[[{'text': 'In 1921, { Einstein } [ Albert Einstein ] received a { Nobel Prize } [ Nobel Prize in Physiology or Medicine ].',\n",
       "   'logprob': tensor(-0.9068)},\n",
       "  {'text': 'In 1921, { Einstein } [ Albert Einstein ] received a { Nobel Prize } [ Nobel Prize in Physiology or Medicine ] {. } [ Nobel Prize in Physiology or Medicine ]',\n",
       "   'logprob': tensor(-0.9301)},\n",
       "  {'text': 'In 1921, { Einstein } [ Albert Einstein ] received a { Nobel Prize } [ Nobel Prize in Physiology or Medicine ] {. } [ Albert Einstein ]',\n",
       "   'logprob': tensor(-0.9943)},\n",
       "  {'text': 'In 1921, { Einstein } [ Albert Einstein ] received a { Nobel Prize } [ Nobel Prize in Physiology or Physiology ].',\n",
       "   'logprob': tensor(-1.0778)},\n",
       "  {'text': 'In 1921, { Einstein } [ Albert Einstein ] received a { Nobel Prize } [ Nobel Prize in Physiology or Medicine ] {. } [ Ernest Einstein ]',\n",
       "   'logprob': tensor(-1.1164)}]]"
      ]
     },
     "execution_count": 7,
     "metadata": {},
     "output_type": "execute_result"
    }
   ],
   "source": [
    "from genre.entity_linking import get_end_to_end_prefix_allowed_tokens_fn_fariseq\n",
    "\n",
    "sentences = [\"In 1921, Einstein received a Nobel Prize.\"]\n",
    "\n",
    "prefix_allowed_tokens_fn = get_end_to_end_prefix_allowed_tokens_fn_fariseq(model, sentences)\n",
    "\n",
    "model.sample(\n",
    "    sentences,\n",
    "    prefix_allowed_tokens_fn=prefix_allowed_tokens_fn,\n",
    ")"
   ]
  },
  {
   "cell_type": "markdown",
   "metadata": {},
   "source": [
    "You can constrain the mentions with a prefix tree (no constrains on candidates)"
   ]
  },
  {
   "cell_type": "code",
   "execution_count": 8,
   "metadata": {},
   "outputs": [
    {
     "data": {
      "text/plain": [
       "[[{'text': 'In 1921, { Einstein } [ Albert Einstein ] received a Nobel Prize.',\n",
       "   'logprob': tensor(-1.4009)},\n",
       "  {'text': 'In 1921, { Einstein } [ Einstein (crater) ] received a Nobel Prize.',\n",
       "   'logprob': tensor(-1.6665)},\n",
       "  {'text': 'In 1921, { Einstein } [ Albert Albert Einstein ] received a Nobel Prize.',\n",
       "   'logprob': tensor(-1.7498)},\n",
       "  {'text': 'In 1921, { Einstein } [ Ernest Einstein ] received a Nobel Prize.',\n",
       "   'logprob': tensor(-1.8327)},\n",
       "  {'text': 'In 1921, { Einstein } [ Max Einstein ] received a Nobel Prize.',\n",
       "   'logprob': tensor(-1.8757)}]]"
      ]
     },
     "execution_count": 8,
     "metadata": {},
     "output_type": "execute_result"
    }
   ],
   "source": [
    "from genre.trie import Trie\n",
    "\n",
    "prefix_allowed_tokens_fn = get_end_to_end_prefix_allowed_tokens_fn_fariseq(\n",
    "    model,\n",
    "    sentences,\n",
    "    mention_trie=Trie([\n",
    "        model.encode(e)[1:].tolist()\n",
    "        for e in [\" Einstein\"]\n",
    "    ])\n",
    ")\n",
    "\n",
    "model.sample(\n",
    "    sentences,\n",
    "    prefix_allowed_tokens_fn=prefix_allowed_tokens_fn,\n",
    ")"
   ]
  },
  {
   "cell_type": "markdown",
   "metadata": {},
   "source": [
    "You can constrain the candidates with a prefix tree (no constrains on mentions)"
   ]
  },
  {
   "cell_type": "code",
   "execution_count": 9,
   "metadata": {},
   "outputs": [
    {
     "data": {
      "text/plain": [
       "[[{'text': 'In 1921, { Einstein } [ Albert Einstein ] received a { Nobel Prize } [ Nobel Prize in Physics ].',\n",
       "   'logprob': tensor(-0.8925)},\n",
       "  {'text': 'In 1921, { Einstein } [ Albert Einstein ] received a { Nobel Prize. } [ Nobel Prize in Physics ]',\n",
       "   'logprob': tensor(-0.8990)},\n",
       "  {'text': 'In 1921, { Einstein } [ Albert Einstein ] received a { Nobel } [ Nobel Prize in Physics ] { Prize } [ Nobel Prize in Physics ].',\n",
       "   'logprob': tensor(-0.9330)},\n",
       "  {'text': 'In 1921, { Einstein } [ Albert Einstein ] received a { Nobel Prize } [ Nobel Prize in Physics ] {. } [ Nobel Prize in Physics ]',\n",
       "   'logprob': tensor(-0.9781)},\n",
       "  {'text': 'In 1921, { Einstein } [ Albert Einstein ] received a { Nobel Prize } [ Nobel Prize in Physics ] {. } [ Albert Einstein ]',\n",
       "   'logprob': tensor(-0.9854)}]]"
      ]
     },
     "execution_count": 9,
     "metadata": {},
     "output_type": "execute_result"
    }
   ],
   "source": [
    "prefix_allowed_tokens_fn = get_end_to_end_prefix_allowed_tokens_fn_fariseq(\n",
    "    model,\n",
    "    sentences,\n",
    "    candidates_trie=Trie([\n",
    "        model.encode(\" }} [ {} ]\".format(e))[1:].tolist()\n",
    "        for e in [\"Albert Einstein\", \"Nobel Prize in Physics\", \"NIL\"]\n",
    "    ])\n",
    ")\n",
    "\n",
    "model.sample(\n",
    "    sentences,\n",
    "    prefix_allowed_tokens_fn=prefix_allowed_tokens_fn,\n",
    ")"
   ]
  },
  {
   "cell_type": "markdown",
   "metadata": {},
   "source": [
    "You can constrain the candidate sets given a mention (no constrains on mentions)"
   ]
  },
  {
   "cell_type": "code",
   "execution_count": 10,
   "metadata": {},
   "outputs": [
    {
     "data": {
      "text/plain": [
       "[[{'text': 'In 1921, { Einstein } [ Einstein ] received a { Nobel } [ Nobel Prize in Physics ] Prize.',\n",
       "   'logprob': tensor(-1.5417)},\n",
       "  {'text': 'In 1921, { Einstein } [ Einstein ] received a Nobel Prize.',\n",
       "   'logprob': tensor(-2.1319)},\n",
       "  {'text': 'In 1921, { Einstein } [ Einstein ] received a { Nobel } [ Nobel Prize in Physics ] { Prize } [ NIL ].',\n",
       "   'logprob': tensor(-2.2816)},\n",
       "  {'text': 'In 1921, { Einstein } [ Einstein ] received a { Nobel } [ Nobel Prize in Physics ] { Prize. } [ NIL ]',\n",
       "   'logprob': tensor(-2.3914)},\n",
       "  {'text': 'In 1921, { Einstein } [ Einstein ] received a { Nobel Prize. } [ NIL ]',\n",
       "   'logprob': tensor(-2.9078)}]]"
      ]
     },
     "execution_count": 10,
     "metadata": {},
     "output_type": "execute_result"
    }
   ],
   "source": [
    "prefix_allowed_tokens_fn = get_end_to_end_prefix_allowed_tokens_fn_fariseq(\n",
    "    model,\n",
    "    sentences,\n",
    "    mention_to_candidates_dict={\n",
    "        \"Einstein\": [\"Einstein\"],\n",
    "        \"Nobel\": [\"Nobel Prize in Physics\"],\n",
    "    }\n",
    ")\n",
    "\n",
    "model.sample(\n",
    "    sentences,\n",
    "    prefix_allowed_tokens_fn=prefix_allowed_tokens_fn,\n",
    ")"
   ]
  },
  {
   "cell_type": "markdown",
   "metadata": {},
   "source": [
    "A combiation of these constraints is also possible"
   ]
  },
  {
   "cell_type": "code",
   "execution_count": 11,
   "metadata": {},
   "outputs": [
    {
     "data": {
      "text/plain": [
       "[[{'text': 'In 1921, { Einstein } [ Albert Einstein ] received a { Nobel Prize } [ Nobel Prize in Physics ].',\n",
       "   'logprob': tensor(-0.8925)},\n",
       "  {'text': 'In 1921, { Einstein } [ Einstein (surname) ] received a { Nobel Prize } [ Nobel Prize in Physics ].',\n",
       "   'logprob': tensor(-1.3275)},\n",
       "  {'text': 'In 1921, { Einstein } [ Albert Einstein ] received a Nobel Prize.',\n",
       "   'logprob': tensor(-1.4009)},\n",
       "  {'text': 'In 1921, Einstein received a { Nobel Prize } [ Nobel Prize in Physics ].',\n",
       "   'logprob': tensor(-1.8266)},\n",
       "  {'text': 'In 1921, Einstein received a Nobel Prize.',\n",
       "   'logprob': tensor(-3.4495)}]]"
      ]
     },
     "execution_count": 11,
     "metadata": {},
     "output_type": "execute_result"
    }
   ],
   "source": [
    "prefix_allowed_tokens_fn = get_end_to_end_prefix_allowed_tokens_fn_fariseq(\n",
    "    model,\n",
    "    sentences,\n",
    "    mention_trie=Trie([\n",
    "        model.encode(\" {}\".format(e))[1:].tolist()\n",
    "        for e in [\"Einstein\", \"Nobel Prize\"]\n",
    "    ]),\n",
    "    mention_to_candidates_dict={\n",
    "        \"Einstein\": [\"Albert Einstein\", \"Einstein (surname)\"],\n",
    "        \"Nobel Prize\": [\"Nobel Prize in Physics\", \"Nobel Prize in Medicine\"],\n",
    "    }\n",
    ")\n",
    "\n",
    "model.sample(\n",
    "    sentences,\n",
    "    prefix_allowed_tokens_fn=prefix_allowed_tokens_fn,\n",
    ")"
   ]
  },
  {
   "cell_type": "markdown",
   "metadata": {},
   "source": [
    "Finally, you can also use some functions from `genre.utils` that wraps pre- and post-processing of strings (e.g., normalization and outputs the character offsets and length of the mentions)"
   ]
  },
  {
   "cell_type": "code",
   "execution_count": 12,
   "metadata": {},
   "outputs": [
    {
     "data": {
      "text/plain": [
       "[[[9, 8, 'Albert_Einstein'], [29, 11, 'Nobel_Prize_in_Physics']]]"
      ]
     },
     "execution_count": 12,
     "metadata": {},
     "output_type": "execute_result"
    }
   ],
   "source": [
    "from genre.utils import get_entity_spans_fairseq\n",
    "\n",
    "get_entity_spans_fairseq(\n",
    "    model,\n",
    "    sentences,\n",
    "    mention_trie=Trie([\n",
    "        model.encode(\" {}\".format(e))[1:].tolist()\n",
    "        for e in [\"Einstein\", \"Nobel Prize\"]\n",
    "    ]),\n",
    "    mention_to_candidates_dict={\n",
    "        \"Einstein\": [\"Albert Einstein\", \"Einstein (surname)\"],\n",
    "        \"Nobel Prize\": [\"Nobel Prize in Physics\", \"Nobel Prize in Medicine\"],\n",
    "    }\n",
    ")"
   ]
  },
  {
   "cell_type": "markdown",
   "metadata": {},
   "source": [
    "and with the `entity_spans` generate Markdown with clickable links"
   ]
  },
  {
   "cell_type": "code",
   "execution_count": 13,
   "metadata": {},
   "outputs": [
    {
     "data": {
      "text/markdown": [
       "In 1921, [Einstein](https://en.wikipedia.org/wiki/Albert_Einstein) received a [Nobel Prize](https://en.wikipedia.org/wiki/Nobel_Prize_in_Physics)."
      ],
      "text/plain": [
       "<IPython.core.display.Markdown object>"
      ]
     },
     "execution_count": 13,
     "metadata": {},
     "output_type": "execute_result"
    }
   ],
   "source": [
    "from genre.utils import get_markdown\n",
    "from IPython.display import Markdown\n",
    "\n",
    "entity_spans = get_entity_spans_fairseq(\n",
    "    model,\n",
    "    sentences,\n",
    "    mention_trie=Trie([\n",
    "        model.encode(\" {}\".format(e))[1:].tolist()\n",
    "        for e in [\"Einstein\", \"Nobel Prize\"]\n",
    "    ]),\n",
    "    mention_to_candidates_dict={\n",
    "        \"Einstein\": [\"Albert Einstein\", \"Einstein (surname)\"],\n",
    "        \"Nobel Prize\": [\"Nobel Prize in Physics\", \"Nobel Prize in Medicine\"],\n",
    "    }\n",
    ")\n",
    "\n",
    "Markdown(get_markdown(sentences, entity_spans)[0])"
   ]
  }
 ],
 "metadata": {
  "kernelspec": {
   "display_name": "Python 3",
   "language": "python",
   "name": "python3"
  },
  "language_info": {
   "codemirror_mode": {
    "name": "ipython",
    "version": 3
   },
   "file_extension": ".py",
   "mimetype": "text/x-python",
   "name": "python",
   "nbconvert_exporter": "python",
   "pygments_lexer": "ipython3",
   "version": "3.7.9"
  }
 },
 "nbformat": 4,
 "nbformat_minor": 4
}
